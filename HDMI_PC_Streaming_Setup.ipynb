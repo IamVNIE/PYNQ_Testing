{
 "cells": [
  {
   "cell_type": "markdown",
   "metadata": {},
   "source": [
    "# HDMI Streaming Setup"
   ]
  },
  {
   "cell_type": "markdown",
   "metadata": {},
   "source": [
    "#### Run this only once. This programs the bit file to FPGA"
   ]
  },
  {
   "cell_type": "code",
   "execution_count": 1,
   "metadata": {
    "collapsed": true
   },
   "outputs": [],
   "source": [
    "# Download bitstream\n",
    "from pynq import Overlay\n",
    "Overlay(\"base.bit\").download()"
   ]
  },
  {
   "cell_type": "markdown",
   "metadata": {},
   "source": [
    "#### Initialize HDMI input and output sources and set the resolutions"
   ]
  },
  {
   "cell_type": "code",
   "execution_count": 2,
   "metadata": {
    "collapsed": false
   },
   "outputs": [],
   "source": [
    "# Initialize HDMI as an input and output devices\n",
    "from pynq.drivers.video import HDMI\n",
    "hdmi_in = HDMI('in', init_timeout=10)\n",
    "hdmi_out = HDMI('out',video_mode=HDMI.VMODE_1920x1080, frame_list=hdmi_in.frame_list)\n",
    "## --The following two lines of codes sets the display to 1280x720 resolution  \n",
    "#hdmi_out = HDMI('out', frame_list=hdmi_in.frame_list)\n",
    "#hdmi_out.mode(2)\n",
    "hdmi_in.start()\n",
    "hdmi_out.start()"
   ]
  },
  {
   "cell_type": "markdown",
   "metadata": {},
   "source": [
    "#### Print statistics of input and output source"
   ]
  },
  {
   "cell_type": "code",
   "execution_count": 3,
   "metadata": {
    "collapsed": false
   },
   "outputs": [
    {
     "name": "stdout",
     "output_type": "stream",
     "text": [
      "HDMI is capturing a video source of resolution 1280x720\n",
      "HDMI is outputing a video of resolution 1280x720@60Hz\n"
     ]
    }
   ],
   "source": [
    "frame_in_w = hdmi_in.frame_width()\n",
    "frame_in_h = hdmi_in.frame_height()\n",
    "frame_out_w = hdmi_out.frame_width()\n",
    "frame_out_h = hdmi_out.frame_height()\n",
    "print('HDMI is capturing a video source of resolution {}x{}'\\\n",
    "      .format(frame_in_w,frame_in_h))\n",
    "\n",
    "print('HDMI is outputing a video of resolution',hdmi_out.mode())"
   ]
  },
  {
   "cell_type": "markdown",
   "metadata": {},
   "source": [
    "#### Once the setup is complete, proceed to process the incoming stream"
   ]
  }
 ],
 "metadata": {
  "kernelspec": {
   "display_name": "Python 3",
   "language": "python",
   "name": "python3"
  },
  "language_info": {
   "codemirror_mode": {
    "name": "ipython",
    "version": 3
   },
   "file_extension": ".py",
   "mimetype": "text/x-python",
   "name": "python",
   "nbconvert_exporter": "python",
   "pygments_lexer": "ipython3",
   "version": "3.4.3+"
  }
 },
 "nbformat": 4,
 "nbformat_minor": 1
}
